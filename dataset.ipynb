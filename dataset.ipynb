{
 "cells": [
  {
   "cell_type": "code",
   "execution_count": 1,
   "metadata": {},
   "outputs": [],
   "source": [
    "import torch\n",
    "from torch.utils.data import Dataset\n",
    "from torchvision import datasets, models, transforms\n",
    "from dataset import BratsSupervisedDataset, BratsUnsupervisedDataset\n",
    "from glob import glob\n",
    "import albumentations as A"
   ]
  },
  {
   "cell_type": "code",
   "execution_count": 2,
   "metadata": {},
   "outputs": [
    {
     "name": "stderr",
     "output_type": "stream",
     "text": [
      "/home/lingkai/.local/lib/python3.8/site-packages/albumentations/augmentations/transforms.py:1613: FutureWarning: This class has been deprecated. Please use RandomBrightnessContrast\n",
      "  warnings.warn(\n",
      "/home/lingkai/.local/lib/python3.8/site-packages/albumentations/augmentations/transforms.py:1639: FutureWarning: RandomContrast has been deprecated. Please use RandomBrightnessContrast\n",
      "  warnings.warn(\n"
     ]
    },
    {
     "ename": "KeyboardInterrupt",
     "evalue": "",
     "output_type": "error",
     "traceback": [
      "\u001b[0;31m---------------------------------------------------------------------------\u001b[0m",
      "\u001b[0;31mKeyboardInterrupt\u001b[0m                         Traceback (most recent call last)",
      "\u001b[1;32m/mnt/asgard2/code/lingkai/simCLR_unet_brats/dataset.ipynb Cell 2\u001b[0m in \u001b[0;36m<cell line: 32>\u001b[0;34m()\u001b[0m\n\u001b[1;32m     <a href='vscode-notebook-cell://ssh-remote%2Bthor.it.uu.se/mnt/asgard2/code/lingkai/simCLR_unet_brats/dataset.ipynb#ch0000001vscode-remote?line=17'>18</a>\u001b[0m train_unsupervise_loader \u001b[39m=\u001b[39m torch\u001b[39m.\u001b[39mutils\u001b[39m.\u001b[39mdata\u001b[39m.\u001b[39mDataLoader(\n\u001b[1;32m     <a href='vscode-notebook-cell://ssh-remote%2Bthor.it.uu.se/mnt/asgard2/code/lingkai/simCLR_unet_brats/dataset.ipynb#ch0000001vscode-remote?line=18'>19</a>\u001b[0m         train_unsupervise_dataset,\n\u001b[1;32m     <a href='vscode-notebook-cell://ssh-remote%2Bthor.it.uu.se/mnt/asgard2/code/lingkai/simCLR_unet_brats/dataset.ipynb#ch0000001vscode-remote?line=19'>20</a>\u001b[0m         batch_size\u001b[39m=\u001b[39m\u001b[39m7\u001b[39m,\n\u001b[1;32m     <a href='vscode-notebook-cell://ssh-remote%2Bthor.it.uu.se/mnt/asgard2/code/lingkai/simCLR_unet_brats/dataset.ipynb#ch0000001vscode-remote?line=20'>21</a>\u001b[0m         shuffle\u001b[39m=\u001b[39m\u001b[39mTrue\u001b[39;00m,\n\u001b[1;32m     <a href='vscode-notebook-cell://ssh-remote%2Bthor.it.uu.se/mnt/asgard2/code/lingkai/simCLR_unet_brats/dataset.ipynb#ch0000001vscode-remote?line=21'>22</a>\u001b[0m         pin_memory\u001b[39m=\u001b[39m\u001b[39mTrue\u001b[39;00m,\n\u001b[1;32m     <a href='vscode-notebook-cell://ssh-remote%2Bthor.it.uu.se/mnt/asgard2/code/lingkai/simCLR_unet_brats/dataset.ipynb#ch0000001vscode-remote?line=22'>23</a>\u001b[0m         drop_last\u001b[39m=\u001b[39m\u001b[39mTrue\u001b[39;00m)\n\u001b[1;32m     <a href='vscode-notebook-cell://ssh-remote%2Bthor.it.uu.se/mnt/asgard2/code/lingkai/simCLR_unet_brats/dataset.ipynb#ch0000001vscode-remote?line=24'>25</a>\u001b[0m train_supervise_loader \u001b[39m=\u001b[39m torch\u001b[39m.\u001b[39mutils\u001b[39m.\u001b[39mdata\u001b[39m.\u001b[39mDataLoader(\n\u001b[1;32m     <a href='vscode-notebook-cell://ssh-remote%2Bthor.it.uu.se/mnt/asgard2/code/lingkai/simCLR_unet_brats/dataset.ipynb#ch0000001vscode-remote?line=25'>26</a>\u001b[0m         train_supervise_dataset,\n\u001b[1;32m     <a href='vscode-notebook-cell://ssh-remote%2Bthor.it.uu.se/mnt/asgard2/code/lingkai/simCLR_unet_brats/dataset.ipynb#ch0000001vscode-remote?line=26'>27</a>\u001b[0m         batch_size\u001b[39m=\u001b[39m\u001b[39m1\u001b[39m,\n\u001b[1;32m     <a href='vscode-notebook-cell://ssh-remote%2Bthor.it.uu.se/mnt/asgard2/code/lingkai/simCLR_unet_brats/dataset.ipynb#ch0000001vscode-remote?line=27'>28</a>\u001b[0m         shuffle\u001b[39m=\u001b[39m\u001b[39mTrue\u001b[39;00m,\n\u001b[1;32m     <a href='vscode-notebook-cell://ssh-remote%2Bthor.it.uu.se/mnt/asgard2/code/lingkai/simCLR_unet_brats/dataset.ipynb#ch0000001vscode-remote?line=28'>29</a>\u001b[0m         pin_memory\u001b[39m=\u001b[39m\u001b[39mTrue\u001b[39;00m,\n\u001b[1;32m     <a href='vscode-notebook-cell://ssh-remote%2Bthor.it.uu.se/mnt/asgard2/code/lingkai/simCLR_unet_brats/dataset.ipynb#ch0000001vscode-remote?line=29'>30</a>\u001b[0m         drop_last\u001b[39m=\u001b[39m\u001b[39mTrue\u001b[39;00m)\n\u001b[0;32m---> <a href='vscode-notebook-cell://ssh-remote%2Bthor.it.uu.se/mnt/asgard2/code/lingkai/simCLR_unet_brats/dataset.ipynb#ch0000001vscode-remote?line=31'>32</a>\u001b[0m \u001b[39mfor\u001b[39;00m i, (data1, data2) \u001b[39min\u001b[39;00m \u001b[39menumerate\u001b[39m(\u001b[39mzip\u001b[39m(train_supervise_loader, train_unsupervise_dataset)):\n\u001b[1;32m     <a href='vscode-notebook-cell://ssh-remote%2Bthor.it.uu.se/mnt/asgard2/code/lingkai/simCLR_unet_brats/dataset.ipynb#ch0000001vscode-remote?line=32'>33</a>\u001b[0m     image1, target1 \u001b[39m=\u001b[39m data1\n\u001b[1;32m     <a href='vscode-notebook-cell://ssh-remote%2Bthor.it.uu.se/mnt/asgard2/code/lingkai/simCLR_unet_brats/dataset.ipynb#ch0000001vscode-remote?line=33'>34</a>\u001b[0m     image2, target2 \u001b[39m=\u001b[39m data2\n",
      "File \u001b[0;32m/mnt/asgard2/code/lingkai/simCLR_unet_brats/dataset.py:169\u001b[0m, in \u001b[0;36mBratsUnsupervisedDataset.__getitem__\u001b[0;34m(self, index)\u001b[0m\n\u001b[1;32m    166\u001b[0m \u001b[39mdef\u001b[39;00m \u001b[39m__getitem__\u001b[39m(\u001b[39mself\u001b[39m, index):\n\u001b[1;32m    167\u001b[0m     image_path \u001b[39m=\u001b[39m \u001b[39mself\u001b[39m\u001b[39m.\u001b[39mimage_path[index]\n\u001b[0;32m--> 169\u001b[0m     image \u001b[39m=\u001b[39m np\u001b[39m.\u001b[39;49mload(image_path)\u001b[39m.\u001b[39mastype(\u001b[39m'\u001b[39m\u001b[39mfloat32\u001b[39m\u001b[39m'\u001b[39m)\n\u001b[1;32m    171\u001b[0m     image1 \u001b[39m=\u001b[39m \u001b[39mself\u001b[39m\u001b[39m.\u001b[39mdata_transform(image)\n\u001b[1;32m    172\u001b[0m     image2 \u001b[39m=\u001b[39m \u001b[39mself\u001b[39m\u001b[39m.\u001b[39mdata_transform(image)\n",
      "File \u001b[0;32m~/.local/lib/python3.8/site-packages/numpy/lib/npyio.py:414\u001b[0m, in \u001b[0;36mload\u001b[0;34m(file, mmap_mode, allow_pickle, fix_imports, encoding)\u001b[0m\n\u001b[1;32m    412\u001b[0m _ZIP_SUFFIX \u001b[39m=\u001b[39m \u001b[39mb\u001b[39m\u001b[39m'\u001b[39m\u001b[39mPK\u001b[39m\u001b[39m\\x05\u001b[39;00m\u001b[39m\\x06\u001b[39;00m\u001b[39m'\u001b[39m \u001b[39m# empty zip files start with this\u001b[39;00m\n\u001b[1;32m    413\u001b[0m N \u001b[39m=\u001b[39m \u001b[39mlen\u001b[39m(\u001b[39mformat\u001b[39m\u001b[39m.\u001b[39mMAGIC_PREFIX)\n\u001b[0;32m--> 414\u001b[0m magic \u001b[39m=\u001b[39m fid\u001b[39m.\u001b[39;49mread(N)\n\u001b[1;32m    415\u001b[0m \u001b[39m# If the file size is less than N, we need to make sure not\u001b[39;00m\n\u001b[1;32m    416\u001b[0m \u001b[39m# to seek past the beginning of the file\u001b[39;00m\n\u001b[1;32m    417\u001b[0m fid\u001b[39m.\u001b[39mseek(\u001b[39m-\u001b[39m\u001b[39mmin\u001b[39m(N, \u001b[39mlen\u001b[39m(magic)), \u001b[39m1\u001b[39m)  \u001b[39m# back-up\u001b[39;00m\n",
      "\u001b[0;31mKeyboardInterrupt\u001b[0m: "
     ]
    }
   ],
   "source": [
    "img_paths = glob('/mnt/asgard2/data/lingkai/braTS20/slice/image/*')\n",
    "mask_paths = glob('/mnt/asgard2/data/lingkai/braTS20/slice/mask/*')\n",
    "\n",
    "train_transform = A.Compose(\n",
    "        [\n",
    "        # A.CropNonEmptyMaskIfExists(height=150, width=150),\n",
    "        A.HorizontalFlip(p=0.5),\n",
    "        A.Affine(scale=(1.0, 1.5), p=0.15),\n",
    "        A.Affine(translate_percent=(0, 0.25), p=0.5),\n",
    "        A.GaussianBlur(sigma_limit=(0.5, 1.5), p=0.15), \n",
    "        A.GaussNoise(var_limit=(0, 0.33), p=0.15),\n",
    "        A.RandomBrightness(limit=(0.7, 1.3), p=0.15),\n",
    "        A.RandomContrast(limit=(0.65, 1.5), p=0.15)],\n",
    "        additional_targets={'t1': 'image', 't1ce': 'image', 't2': 'image', 'tumorCore': 'mask', 'enhancingTumor': 'mask'}\n",
    "    )\n",
    "train_unsupervise_dataset = BratsUnsupervisedDataset(img_paths, augmentation=train_transform)\n",
    "train_supervise_dataset = BratsSupervisedDataset(img_paths, mask_paths, augmentation=None)\n",
    "train_unsupervise_loader = torch.utils.data.DataLoader(\n",
    "        train_unsupervise_dataset,\n",
    "        batch_size=7,\n",
    "        shuffle=True,\n",
    "        pin_memory=True,\n",
    "        drop_last=True)\n",
    "\n",
    "train_supervise_loader = torch.utils.data.DataLoader(\n",
    "        train_supervise_dataset,\n",
    "        batch_size=1,\n",
    "        shuffle=True,\n",
    "        pin_memory=True,\n",
    "        drop_last=True)\n",
    "\n",
    "for i, (data1, data2) in enumerate(zip(train_supervise_loader, train_unsupervise_dataset)):\n",
    "    image1, target1 = data1\n",
    "    image2, target2 = data2"
   ]
  },
  {
   "cell_type": "code",
   "execution_count": null,
   "metadata": {},
   "outputs": [],
   "source": []
  }
 ],
 "metadata": {
  "kernelspec": {
   "display_name": "Python 3.8.10 64-bit",
   "language": "python",
   "name": "python3"
  },
  "language_info": {
   "codemirror_mode": {
    "name": "ipython",
    "version": 3
   },
   "file_extension": ".py",
   "mimetype": "text/x-python",
   "name": "python",
   "nbconvert_exporter": "python",
   "pygments_lexer": "ipython3",
   "version": "3.8.10"
  },
  "orig_nbformat": 4,
  "vscode": {
   "interpreter": {
    "hash": "916dbcbb3f70747c44a77c7bcd40155683ae19c65e1c03b4aa3499c5328201f1"
   }
  }
 },
 "nbformat": 4,
 "nbformat_minor": 2
}
