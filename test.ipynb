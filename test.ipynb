{
 "cells": [
  {
   "cell_type": "code",
   "execution_count": 4,
   "metadata": {},
   "outputs": [
    {
     "name": "stdout",
     "output_type": "stream",
     "text": [
      "torch.Size([1, 1, 128, 128])\n"
     ]
    },
    {
     "data": {
      "image/png": "[encoded data removed]",
      "text/plain": [
       "<Figure size 432x288 with 1 Axes>"
      ]
     },
     "metadata": {
      "needs_background": "light"
     },
     "output_type": "display_data"
    }
   ],
   "source": [
    "# from cProfile import label\n",
    "# from cv2 import norm\n",
    "# from torch.utils.data import Dataset, DataLoader\n",
    "# import torch\n",
    "# import torch.nn.functional as F\n",
    "# import os\n",
    "# import nibabel as nib\n",
    "# import numpy as np\n",
    "# from PIL import Image\n",
    "# import matplotlib.pyplot as plt\n",
    "# from random import randint\n",
    "# import monai.transforms as transforms\n",
    "\n",
    "# class BratsTrainDataset(Dataset):\n",
    "#     def __init__(self, datapath='/mnt/asgard2/data/lingkai/braTS20/BraTS2020_TrainingData', augmentation=None):\n",
    "#         self.augmentaion = augmentation\n",
    "#         self.folderpaths = {\n",
    "#             'seg': os.path.join(datapath, 'labels/'),\n",
    "#             'flair': os.path.join(datapath, 'flair/')\n",
    "#         }\n",
    "\n",
    "#     def __getitem__(self, index):\n",
    "#         images = {}\n",
    "#         for name in self.folderpaths:\n",
    "#             img = nib.load(os.path.join(self.folderpaths[name], f'BraTS20_Training_{str(index+1).zfill(3)}_{name}.nii')).get_fdata()\n",
    "#             # img = np.array(img.dataobj)\n",
    "#             if name == 'seg':\n",
    "#                 img[img==4] = 3\n",
    "#             # img = Image.fromarray(img.astype('uint8'), 'RGB')\n",
    "#             images[name] = img\n",
    "\n",
    "#         if self.augmentaion:\n",
    "#             images = self.augmentaion(image=images['flair'],mask=images['seg'])\n",
    "#         # normalize the non-zero voxels in images\n",
    "#         images['flair'] = self.normalize(images['flair'])\n",
    "#         # images = self.crop(images)\n",
    "#         flair_slice, label_slice = self.get_slice(images)\n",
    "#         flair_slice, label_slice = self.crop_center(flair_slice), self.crop_center(label_slice)\n",
    "#         return np.expand_dims(flair_slice, axis=0), np.expand_dims(label_slice, axis=0)\n",
    "\n",
    "#     def __len__(self):\n",
    "#         return len(os.listdir(self.folderpaths['seg'])) - 1\n",
    "    \n",
    "#     def crop_center(self, img, cropx=128, cropy=128):\n",
    "#         y, x = img.shape\n",
    "#         startx = x//2 - cropx//2\n",
    "#         starty = y//2 - cropy//2    \n",
    "#         return img[starty:starty+cropy, startx:startx+cropx]\n",
    "\n",
    "\n",
    "#     def normalize(self, input):\n",
    "#         normalizeIntensity = transforms.NormalizeIntensity(nonzero=True)\n",
    "#         input_norm = normalizeIntensity(input)\n",
    "#         return input_norm\n",
    "\n",
    "#     def get_slice(self, images):\n",
    "#         _, _, max_z = images['flair'].shape\n",
    "#         slice_z_num = randint(0, max_z-1)\n",
    "#         return images['flair'][:, :, slice_z_num], images['seg'][:, :, slice_z_num]\n",
    "\n",
    "\n",
    "        \n",
    "    \n",
    "\n",
    "# train_dataset = BratsTrainDataset()\n",
    "# train_loader = DataLoader(train_dataset, batch_size=1, num_workers=1, shuffle=True)\n",
    "# a, b = next(iter(train_loader))\n",
    "# plt.imshow(a[0, 0, :, :], cmap='gray')\n",
    "# print(a.shape)\n",
    "\n",
    "\n",
    "#     # def crop(self, images):\n",
    "#     #     cropForeground = transforms.CropForegroundd(keys=[\"flair\", 'seg'], source_key='flair')\n",
    "#     #     centerSpatialCrop = transforms.CenterSpatialCropd(keys=['flair', 'seg'], roi_size=(100, 100))\n",
    "#     #     images = cropForeground(images)\n",
    "#     #     images = centerSpatialCrop(images)\n",
    "#     #     # bbox = transforms.utils.generate_spatial_bounding_box(images['flair'])\n",
    "#     #     # flair = transforms.SpatialCrop(roi_center=bbox[0], roi_end=bbox[1])(flair)\n",
    "#     #     # label = transforms.SpatialCrop(roi_center=bbox[0], roi_end=bbox[1])(label)\n",
    "        \n",
    "#     #     # return flair, label\n",
    "#     #     return images"
   ]
  },
  {
   "cell_type": "code",
   "execution_count": 5,
   "metadata": {},
   "outputs": [
    {
     "name": "stdout",
     "output_type": "stream",
     "text": [
      "tensor([[False, False, False,  ..., False, False, False],\n",
      "        [False, False, False,  ..., False, False, False],\n",
      "        [False, False, False,  ..., False, False, False],\n",
      "        ...,\n",
      "        [False, False, False,  ..., False, False, False],\n",
      "        [False, False, False,  ..., False, False, False],\n",
      "        [False, False, False,  ..., False, False, False]])\n"
     ]
    },
    {
     "data": {
      "image/png": "[encoded data removed]",
      "text/plain": [
       "<Figure size 432x288 with 1 Axes>"
      ]
     },
     "metadata": {
      "needs_background": "light"
     },
     "output_type": "display_data"
    }
   ],
   "source": [
    "plt.imshow(b[0, 0, :, :], cmap='gray')\n",
    "\n",
    "print(b[0, 0, :, :] == 1)"
   ]
  },
  {
   "cell_type": "code",
   "execution_count": null,
   "metadata": {},
   "outputs": [],
   "source": []
  }
 ],
 "metadata": {
  "kernelspec": {
   "display_name": "Python 3.8.13 ('unet')",
   "language": "python",
   "name": "python3"
  },
  "language_info": {
   "codemirror_mode": {
    "name": "ipython",
    "version": 3
   },
   "file_extension": ".py",
   "mimetype": "text/x-python",
   "name": "python",
   "nbconvert_exporter": "python",
   "pygments_lexer": "ipython3",
   "version": "3.8.13"
  },
  "orig_nbformat": 4,
  "vscode": {
   "interpreter": {
    "hash": "2fed6553b37db5444a026823b6f1d9e7d69c3f35235b61a602e6b476fd2e4946"
   }
  }
 },
 "nbformat": 4,
 "nbformat_minor": 2
}
