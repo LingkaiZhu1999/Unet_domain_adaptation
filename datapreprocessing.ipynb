{
 "cells": [
  {
   "cell_type": "code",
   "execution_count": 21,
   "metadata": {},
   "outputs": [],
   "source": [
    "import os, glob\n",
    "import numpy as np\n",
    "import nibabel as nib\n",
    "from monai.transforms import NormalizeIntensity\n",
    "import shutil\n",
    "from distutils.dir_util import copy_tree"
   ]
  },
  {
   "cell_type": "code",
   "execution_count": 32,
   "metadata": {},
   "outputs": [],
   "source": [
    "flair_name = \"_flair.nii\"\n",
    "t1_name = \"_t1.nii\"\n",
    "t1ce_name = \"_t1ce.nii\"\n",
    "t2_name = \"_t2.nii\"\n",
    "mask_name = \"_seg.nii\""
   ]
  },
  {
   "cell_type": "code",
   "execution_count": 3,
   "metadata": {},
   "outputs": [],
   "source": [
    "dataInputPath = '/mnt/asgard2/data/lingkai/braTS20/BraTS2020_TrainingData/'"
   ]
  },
  {
   "cell_type": "code",
   "execution_count": 8,
   "metadata": {},
   "outputs": [],
   "source": [
    "dataOutputPath_img = '/mnt/asgard2/data/lingkai/braTS20/slice/image'\n",
    "dataOutputPath_mask = '/mnt/asgard2/data/lingkai/braTS20/slice/mask'"
   ]
  },
  {
   "cell_type": "code",
   "execution_count": 30,
   "metadata": {},
   "outputs": [],
   "source": [
    "if not os.path.exists(dataOutputPath_mask):\n",
    "    os.mkdir(dataOutputPath_mask)\n",
    "if not os.path.exists(dataOutputPath_img):\n",
    "    os.mkdir(dataOutputPath_img)"
   ]
  },
  {
   "cell_type": "code",
   "execution_count": 46,
   "metadata": {},
   "outputs": [],
   "source": [
    "def normalizeImageIntensityRange(imgSlice, leftboound=1, rightbound=99):\n",
    "    slice_min = np.percentile(imgSlice, leftboound)\n",
    "    slice_max = np.percentile(imgSlice, rightbound)\n",
    "    imgSlice = np.clip(imgSlice, slice_min, slice_max)\n",
    "    normalizeIntensity = NormalizeIntensity(nonzero=True)\n",
    "    imgSliceNorm = normalizeIntensity(imgSlice)\n",
    "    return imgSliceNorm"
   ]
  },
  {
   "cell_type": "code",
   "execution_count": 47,
   "metadata": {},
   "outputs": [],
   "source": [
    "def crop_center(img, cropx=160, cropy=160):\n",
    "    y, x, _ = img.shape\n",
    "    startx = x//2 - cropx//2\n",
    "    starty = y//2 - cropy//2    \n",
    "    return img[starty:starty+cropy, startx:startx+cropx, :]"
   ]
  },
  {
   "cell_type": "code",
   "execution_count": 48,
   "metadata": {},
   "outputs": [],
   "source": [
    "# Read image or mask volume\n",
    "def readImageVolume(imgPath, normalize=False):\n",
    "    img = nib.load(imgPath).get_fdata()\n",
    "    if normalize:\n",
    "        return normalizeImageIntensityRange(img)\n",
    "    else:\n",
    "        return img"
   ]
  },
  {
   "cell_type": "code",
   "execution_count": 16,
   "metadata": {},
   "outputs": [],
   "source": [
    "train_subdir = []\n",
    "for (dirpath, dirnames, filenames) in os.walk(dataInputPath):\n",
    "    if len(dirnames):\n",
    "        train_subdir = dirnames"
   ]
  },
  {
   "cell_type": "code",
   "execution_count": 49,
   "metadata": {},
   "outputs": [],
   "source": [
    "# Save volume slice to file\n",
    "def saveSlice(img, fname, path):\n",
    "    fout = os.path.join(path, f'{fname}.npy')\n",
    "    np.save(fout, img)\n",
    "    print(f'[+] Slice saved: {fout}', end='\\r')"
   ]
  },
  {
   "cell_type": "code",
   "execution_count": 41,
   "metadata": {},
   "outputs": [
    {
     "name": "stdout",
     "output_type": "stream",
     "text": [
      "[+] Slice saved: /mnt/asgard2/data/lingkai/braTS20/slice/mask/BraTS20_Training_109-slice130_z.npyy\r"
     ]
    }
   ],
   "source": [
    "for subdir in train_subdir:\n",
    "    path = os.path.join(dataInputPath, subdir)\n",
    "    flair_path = os.path.join(path, subdir + flair_name)\n",
    "    t1_path = os.path.join(path, subdir + t1_name)\n",
    "    t1ce_path = os.path.join(path, subdir + t1ce_name)\n",
    "    t2_path = os.path.join(path, subdir + t2_name)\n",
    "    mask_path = os.path.join(path, subdir + mask_name)\n",
    "\n",
    "    flair = readImageVolume(flair_path, normalize=True)\n",
    "    t1 = readImageVolume(t1_path, normalize=True)\n",
    "    t1ce = readImageVolume(t1ce_path, normalize=True)\n",
    "    t2 = readImageVolume(t2_path, normalize=True)\n",
    "    mask = readImageVolume(mask_path, normalize=False)\n",
    "\n",
    "    flair_crop = crop_center(flair)\n",
    "    t1_crop = crop_center(t1)\n",
    "    t1ce_crop = crop_center(t1ce)\n",
    "    t2_crop = crop_center(t2)\n",
    "    mask_crop = crop_center(mask)\n",
    "\n",
    "    for n_slice in range(flair_crop.shape[-1]): # take slice on the z-axis\n",
    "        if np.max(mask_crop[:, :, n_slice]) != 0:\n",
    "            mask_slice = mask_crop[:, :, n_slice]\n",
    "\n",
    "            flair_slice = np.expand_dims(flair_crop[:, :, n_slice].astype(float), axis=0)\n",
    "            t1_slice = np.expand_dims(t1_crop[:, :, n_slice].astype(float), axis=0)\n",
    "            t1ce_slice = np.expand_dims(t1ce_crop[:, :, n_slice].astype(float), axis=0)\n",
    "            t2_slice = np.expand_dims(t2_crop[:, :, n_slice].astype(float), axis=0)\n",
    "\n",
    "            image_slice = np.concatenate((flair_slice, t1_slice, t1ce_slice, t2_slice), axis=0)\n",
    "            \n",
    "\n",
    "            saveSlice(image_slice, subdir+f'-slice{str(n_slice).zfill(3)}_z', dataOutputPath_img)\n",
    "            saveSlice(mask_slice, subdir+f'-slice{str(n_slice).zfill(3)}_z', dataOutputPath_mask)   "
   ]
  },
  {
   "cell_type": "code",
   "execution_count": 49,
   "metadata": {},
   "outputs": [
    {
     "data": {
      "text/plain": [
       "<matplotlib.image.AxesImage at 0x7f12892cb2e0>"
      ]
     },
     "execution_count": 49,
     "metadata": {},
     "output_type": "execute_result"
    },
    {
     "data": {
      "image/png": "[encoded data removed]",
      "text/plain": [
       "<Figure size 432x288 with 1 Axes>"
      ]
     },
     "metadata": {
      "needs_background": "light"
     },
     "output_type": "display_data"
    }
   ],
   "source": [
    "import matplotlib.pyplot as plt\n",
    "x = np.load('/mnt/asgard2/data/lingkai/braTS20/slice/LabelTs/BraTS20_Training_050-slice099_z.npy')\n",
    "plt.imshow(x[3, :, :], cmap='gray')"
   ]
  },
  {
   "cell_type": "markdown",
   "metadata": {},
   "source": [
    "## Seperate Training and Test Dataset\n",
    "\n",
    "Training samples: 158 ~ 259, 271 ~ 335 (BraTS17, BraTS19 TCIA), Test samples: 1 ~ 129 (BraTS17 CBICA)"
   ]
  },
  {
   "cell_type": "code",
   "execution_count": 6,
   "metadata": {},
   "outputs": [],
   "source": [
    "trainOutputPath_img = '/mnt/asgard2/data/lingkai/braTS20/slice/ImageTr/'\n",
    "testOutputPath_img = '/mnt/asgard2/data/lingkai/braTS20/slice/ImageTs/'\n",
    "\n",
    "trainOutputPath_label = '/mnt/asgard2/data/lingkai/braTS20/slice/LabelTr/'\n",
    "testOutputPath_label = '/mnt/asgard2/data/lingkai/braTS20/slice/LabelTs/'"
   ]
  },
  {
   "cell_type": "code",
   "execution_count": 4,
   "metadata": {},
   "outputs": [],
   "source": [
    "BraTS17_CBICA_HGG = (1, 89)\n",
    "BraTS19_CBICA_HGG = (89, 130)\n",
    "BraTS13_HGG = (130, 150)\n",
    "BraTS19_TMC_HGG = (150, 158)\n",
    "BraTS17_TCIA_HGG = (158, 260)\n",
    "BraTS17_LGG = (260, 270)\n",
    "BraTS19_TMC_LGG = (270, 271)\n",
    "BraTS17_TCIA_LGG = (271, 336)\n",
    "BraTS20_HGG = (336, 370)"
   ]
  },
  {
   "cell_type": "code",
   "execution_count": 17,
   "metadata": {},
   "outputs": [],
   "source": [
    "BraTS17_TCIA_HGG_ImagePath = '/mnt/asgard2/data/lingkai/braTS20/slice/BraTS17_TCIA_HGG/image'\n",
    "start, end = BraTS17_TCIA_HGG\n",
    "for file in os.listdir(dataOutputPath_img):\n",
    "    for i in range(start, end):\n",
    "        if f'Training_{str(i).zfill(3)}' in file:\n",
    "            sourcePath = os.path.join(dataOutputPath_img, file)\n",
    "            shutil.copy(sourcePath, BraTS17_TCIA_HGG_ImagePath)"
   ]
  },
  {
   "cell_type": "code",
   "execution_count": 18,
   "metadata": {},
   "outputs": [],
   "source": [
    "BraTS17_TCIA_HGG_LabelPath = '/mnt/asgard2/data/lingkai/braTS20/slice/BraTS17_TCIA_HGG/label'\n",
    "start, end = BraTS17_TCIA_HGG\n",
    "for file in os.listdir(dataOutputPath_mask):\n",
    "    for i in range(start, end):\n",
    "        if f'Training_{str(i).zfill(3)}' in file:\n",
    "            sourcePath = os.path.join(dataOutputPath_mask, file)\n",
    "            shutil.copy(sourcePath, BraTS17_TCIA_HGG_LabelPath)"
   ]
  },
  {
   "cell_type": "code",
   "execution_count": 19,
   "metadata": {},
   "outputs": [],
   "source": [
    "BraTS17_CBICA_HGG_ImagePath = '/mnt/asgard2/data/lingkai/braTS20/slice/BraTS17_CBICA_HGG/image'\n",
    "start, end = BraTS17_CBICA_HGG\n",
    "for file in os.listdir(dataOutputPath_img):\n",
    "    for i in range(start, end):\n",
    "        if f'Training_{str(i).zfill(3)}' in file:\n",
    "            sourcePath = os.path.join(dataOutputPath_img, file)\n",
    "            shutil.copy(sourcePath, BraTS17_CBICA_HGG_ImagePath)"
   ]
  },
  {
   "cell_type": "code",
   "execution_count": 20,
   "metadata": {},
   "outputs": [],
   "source": [
    "BraTS17_CBICA_HGG_LabelPath = '/mnt/asgard2/data/lingkai/braTS20/slice/BraTS17_CBICA_HGG/label'\n",
    "start, end = BraTS17_CBICA_HGG\n",
    "for file in os.listdir(dataOutputPath_mask):\n",
    "    for i in range(start, end):\n",
    "        if f'Training_{str(i).zfill(3)}' in file:\n",
    "            sourcePath = os.path.join(dataOutputPath_mask, file)\n",
    "            shutil.copy(sourcePath, BraTS17_CBICA_HGG_LabelPath)"
   ]
  },
  {
   "cell_type": "code",
   "execution_count": 23,
   "metadata": {},
   "outputs": [],
   "source": [
    "BraTS17_TCIA_HGG_Path  = '/mnt/asgard2/data/lingkai/braTS20/BraTS17_TCIA_HGG/'\n",
    "Traindataset = '/mnt/asgard2/data/lingkai/braTS20/BraTS2020_TrainingData/'\n",
    "start, end = BraTS17_TCIA_HGG\n",
    "for dir in os.listdir(Traindataset):\n",
    "    for i in range(start, end):\n",
    "        if f'Training_{str(i).zfill(3)}' in dir:\n",
    "            sourcePath = os.path.join(Traindataset, dir)\n",
    "            targetPath = os.path.join(BraTS17_CBICA_HGG_Path, f'BraTS20_Training_{str(i).zfill(3)}')\n",
    "            if not os.path.exists(targetPath):\n",
    "                os.mkdir(targetPath)\n",
    "            copy_tree(sourcePath, targetPath)\n"
   ]
  },
  {
   "cell_type": "markdown",
   "metadata": {},
   "source": [
    "BraTS2021 Challenge Dataset"
   ]
  },
  {
   "cell_type": "code",
   "execution_count": 23,
   "metadata": {},
   "outputs": [],
   "source": [
    "import os, glob\n",
    "import numpy as np\n",
    "import nibabel as nib\n",
    "from monai.transforms import NormalizeIntensity"
   ]
  },
  {
   "cell_type": "code",
   "execution_count": 52,
   "metadata": {},
   "outputs": [],
   "source": [
    "flair_name = \"_flair.nii.gz\"\n",
    "t1_name = \"_t1.nii.gz\"\n",
    "t1ce_name = \"_t1ce.nii.gz\"\n",
    "t2_name = \"_t2.nii.gz\"\n",
    "mask_name = \"_seg.nii.gz\""
   ]
  },
  {
   "cell_type": "code",
   "execution_count": 41,
   "metadata": {},
   "outputs": [],
   "source": [
    "dataInputPath = '/mnt/asgard2/data/lingkai/braTS21/train_data/'"
   ]
  },
  {
   "cell_type": "code",
   "execution_count": 42,
   "metadata": {},
   "outputs": [],
   "source": [
    "dataOutputPath_img = '/mnt/asgard2/data/lingkai/braTS21/slice/images'\n",
    "dataOutputPath_mask = '/mnt/asgard2/data/lingkai/braTS21/slice/mask'"
   ]
  },
  {
   "cell_type": "code",
   "execution_count": 43,
   "metadata": {},
   "outputs": [],
   "source": [
    "if not os.path.exists(dataOutputPath_mask):\n",
    "    os.mkdir(dataOutputPath_mask)\n",
    "if not os.path.exists(dataOutputPath_img):\n",
    "    os.mkdir(dataOutputPath_img)"
   ]
  },
  {
   "cell_type": "code",
   "execution_count": 44,
   "metadata": {},
   "outputs": [],
   "source": [
    "train_subdir = []\n",
    "for (dirpath, dirnames, filenames) in os.walk(dataInputPath):\n",
    "    if len(dirnames):\n",
    "        train_subdir = dirnames"
   ]
  },
  {
   "cell_type": "code",
   "execution_count": 53,
   "metadata": {},
   "outputs": [
    {
     "name": "stdout",
     "output_type": "stream",
     "text": [
      "[+] Slice saved: /mnt/asgard2/data/lingkai/braTS21/slice/mask/BraTS2021_01202-slice112_z.npypy\r"
     ]
    }
   ],
   "source": [
    "for subdir in train_subdir:\n",
    "    path = os.path.join(dataInputPath, subdir)\n",
    "    flair_path = os.path.join(path, subdir + flair_name)\n",
    "    t1_path = os.path.join(path, subdir + t1_name)\n",
    "    t1ce_path = os.path.join(path, subdir + t1ce_name)\n",
    "    t2_path = os.path.join(path, subdir + t2_name)\n",
    "    mask_path = os.path.join(path, subdir + mask_name)\n",
    "\n",
    "    flair = readImageVolume(flair_path, normalize=True)\n",
    "    t1 = readImageVolume(t1_path, normalize=True)\n",
    "    t1ce = readImageVolume(t1ce_path, normalize=True)\n",
    "    t2 = readImageVolume(t2_path, normalize=True)\n",
    "    mask = readImageVolume(mask_path, normalize=False)\n",
    "\n",
    "    flair_crop = crop_center(flair)\n",
    "    t1_crop = crop_center(t1)\n",
    "    t1ce_crop = crop_center(t1ce)\n",
    "    t2_crop = crop_center(t2)\n",
    "    mask_crop = crop_center(mask)\n",
    "\n",
    "    for n_slice in range(flair_crop.shape[-1]): # take slice on the z-axis\n",
    "        if np.max(mask_crop[:, :, n_slice]) != 0:\n",
    "            mask_slice = mask_crop[:, :, n_slice]\n",
    "\n",
    "            flair_slice = np.expand_dims(flair_crop[:, :, n_slice].astype(float), axis=0)\n",
    "            t1_slice = np.expand_dims(t1_crop[:, :, n_slice].astype(float), axis=0)\n",
    "            t1ce_slice = np.expand_dims(t1ce_crop[:, :, n_slice].astype(float), axis=0)\n",
    "            t2_slice = np.expand_dims(t2_crop[:, :, n_slice].astype(float), axis=0)\n",
    "\n",
    "            image_slice = np.concatenate((flair_slice, t1_slice, t1ce_slice, t2_slice), axis=0)\n",
    "            \n",
    "\n",
    "            saveSlice(image_slice, subdir+f'-slice{str(n_slice).zfill(3)}_z', dataOutputPath_img)\n",
    "            saveSlice(mask_slice, subdir+f'-slice{str(n_slice).zfill(3)}_z', dataOutputPath_mask)  "
   ]
  },
  {
   "cell_type": "code",
   "execution_count": null,
   "metadata": {},
   "outputs": [],
   "source": []
  }
 ],
 "metadata": {
  "kernelspec": {
   "display_name": "Python 3.8.10 64-bit",
   "language": "python",
   "name": "python3"
  },
  "language_info": {
   "codemirror_mode": {
    "name": "ipython",
    "version": 3
   },
   "file_extension": ".py",
   "mimetype": "text/x-python",
   "name": "python",
   "nbconvert_exporter": "python",
   "pygments_lexer": "ipython3",
   "version": "3.8.10"
  },
  "orig_nbformat": 4,
  "vscode": {
   "interpreter": {
    "hash": "916dbcbb3f70747c44a77c7bcd40155683ae19c65e1c03b4aa3499c5328201f1"
   }
  }
 },
 "nbformat": 4,
 "nbformat_minor": 2
}
